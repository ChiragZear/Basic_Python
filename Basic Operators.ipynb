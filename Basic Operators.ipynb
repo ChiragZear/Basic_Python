{
 "cells": [
  {
   "cell_type": "markdown",
   "id": "042ecb15-190e-40e9-a2bf-c0d7de41743d",
   "metadata": {},
   "source": [
    "#### Basic Python Operators ####"
   ]
  },
  {
   "cell_type": "code",
   "execution_count": 1,
   "id": "f8238aed",
   "metadata": {},
   "outputs": [
    {
     "data": {
      "text/plain": [
       "4"
      ]
     },
     "execution_count": 1,
     "metadata": {},
     "output_type": "execute_result"
    }
   ],
   "source": [
    "#### Multiplication \n",
    "2*2"
   ]
  },
  {
   "cell_type": "code",
   "execution_count": 2,
   "id": "81afe260",
   "metadata": {},
   "outputs": [
    {
     "data": {
      "text/plain": [
       "3"
      ]
     },
     "execution_count": 2,
     "metadata": {},
     "output_type": "execute_result"
    }
   ],
   "source": [
    "#### The % operator in Python is the modulus operator. It returns the remainder of the division of one number by another\n",
    "7%4\n",
    "\n",
    "####  Here's how it works for 7%4\n",
    "#### Divide 7 by 4, which equals 1 with a remainder. The integer division of 7 by 4 is 1 (since 4×1=4).\n",
    "#### Subtract this product from the original number: 7−4 =3.\n",
    "#### Thus, the remainder when 7 is divided by 4 is 3, which is the result of the modulus operation 7%4."
   ]
  },
  {
   "cell_type": "code",
   "execution_count": 3,
   "id": "4f9b7918",
   "metadata": {},
   "outputs": [
    {
     "data": {
      "text/plain": [
       "3"
      ]
     },
     "execution_count": 3,
     "metadata": {},
     "output_type": "execute_result"
    }
   ],
   "source": [
    "#### Variable Assignment: The = operator assigns the value on its right (in this case, 3) to the variable on its left (a).\n",
    "#### Variable Creation: If a did not previously exist, this statement creates a new variable named a.\n",
    "#### Type Inference: Python infers the type of a based on the assigned value. Here, since 3 is an integer, a becomes an integer variable.\n",
    "#### Value Storage: The value 3 is stored in memory, and a is a reference to that memory location.\n",
    "\n",
    "a=3\n",
    "a"
   ]
  },
  {
   "cell_type": "code",
   "execution_count": 4,
   "id": "f67afd34",
   "metadata": {},
   "outputs": [
    {
     "data": {
      "text/plain": [
       "6"
      ]
     },
     "execution_count": 4,
     "metadata": {},
     "output_type": "execute_result"
    }
   ],
   "source": [
    "#### Addition\n",
    "a+a"
   ]
  },
  {
   "cell_type": "code",
   "execution_count": 5,
   "id": "dcbe9b44",
   "metadata": {},
   "outputs": [
    {
     "data": {
      "text/plain": [
       "6"
      ]
     },
     "execution_count": 5,
     "metadata": {},
     "output_type": "execute_result"
    }
   ],
   "source": [
    "#### Reassignment\n",
    "a=a+a\n",
    "a"
   ]
  },
  {
   "cell_type": "code",
   "execution_count": 6,
   "id": "817b96df",
   "metadata": {},
   "outputs": [
    {
     "data": {
      "text/plain": [
       "10.0"
      ]
     },
     "execution_count": 6,
     "metadata": {},
     "output_type": "execute_result"
    }
   ],
   "source": [
    "#### Assigning variable and performing an operation.\n",
    "my_income = 100\n",
    "taxes_rate = 0.1\n",
    "my_tax = my_income*taxes_rate\n",
    "my_tax"
   ]
  },
  {
   "cell_type": "code",
   "execution_count": 7,
   "id": "03b1df9b",
   "metadata": {},
   "outputs": [
    {
     "data": {
      "text/plain": [
       "10"
      ]
     },
     "execution_count": 7,
     "metadata": {},
     "output_type": "execute_result"
    }
   ],
   "source": [
    "a=10\n",
    "a"
   ]
  },
  {
   "cell_type": "code",
   "execution_count": 8,
   "id": "1bcb9f8d",
   "metadata": {},
   "outputs": [
    {
     "data": {
      "text/plain": [
       "100"
      ]
     },
     "execution_count": 8,
     "metadata": {},
     "output_type": "execute_result"
    }
   ],
   "source": [
    "#### Operation: The *= operator is an in-place multiplication operator. \n",
    "#### It multiplies the current value of a by the number on the right side (10 in this case) and then updates a with the result.\n",
    "a*=10\n",
    "a"
   ]
  },
  {
   "cell_type": "code",
   "execution_count": 9,
   "id": "2bb62388",
   "metadata": {},
   "outputs": [
    {
     "data": {
      "text/plain": [
       "20.0"
      ]
     },
     "execution_count": 9,
     "metadata": {},
     "output_type": "execute_result"
    }
   ],
   "source": [
    "#### Operation: The /= operator is an in-place division operator. \n",
    "#### It divides the current value of a by the number on the right side (5 in this case) and then updates a with the result.\n",
    "a/=5\n",
    "a"
   ]
  },
  {
   "cell_type": "code",
   "execution_count": 10,
   "id": "a2afc039",
   "metadata": {},
   "outputs": [
    {
     "data": {
      "text/plain": [
       "str"
      ]
     },
     "execution_count": 10,
     "metadata": {},
     "output_type": "execute_result"
    }
   ],
   "source": [
    "#### Variable Assignment: When you assign a = 'horse', you are creating a variable a and assigning it the string value 'horse'.\n",
    "#### Type Checking: The type() function is a built-in function in Python that returns the type of the specified object.\n",
    "a = 'horse'\n",
    "type(a)"
   ]
  },
  {
   "cell_type": "code",
   "execution_count": 11,
   "id": "3e981e2b",
   "metadata": {},
   "outputs": [
    {
     "data": {
      "text/plain": [
       "str"
      ]
     },
     "execution_count": 11,
     "metadata": {},
     "output_type": "execute_result"
    }
   ],
   "source": [
    "#### Parentheses for Grouping: The expression ('horse') is just the string 'horse' with parentheses around it. \n",
    "#### Parentheses are used here for grouping, and they don't create a tuple by themselves.\n",
    "#### String Assignment: The value assigned to a is still the string 'horse'.\n",
    "#### Type Identification: The type() function then checks the type of a. Since a is just the string 'horse', type(a) returns <class 'str'>.\n",
    "####To actually create a single-element tuple, you need to include a comma inside the parentheses:\n",
    "#### a = ('horse',)\n",
    "a = ('horse')\n",
    "type(a)"
   ]
  },
  {
   "cell_type": "code",
   "execution_count": 12,
   "id": "71bce776",
   "metadata": {},
   "outputs": [
    {
     "name": "stdout",
     "output_type": "stream",
     "text": [
      "Hello World, Thank You\n"
     ]
    }
   ],
   "source": [
    "#### String Literal: 'Hello World, Thank You' is a string literal, which is the text you want to print.\n",
    "#### Function Call: print('Hello World, Thank You') calls the print function with the string literal as an argument.\n",
    "#### Display Output: The print function then displays the string on the console.\n",
    "print('Hello World, Thank You')"
   ]
  },
  {
   "cell_type": "code",
   "execution_count": 13,
   "id": "7574fd5d",
   "metadata": {},
   "outputs": [
    {
     "name": "stdout",
     "output_type": "stream",
     "text": [
      "Hello World \n",
      " Thank You\n"
     ]
    }
   ],
   "source": [
    "#### Escape Sequence \\n: The \\n is an escape sequence in Python that represents a newline character. \n",
    "#### It tells the interpreter to move to the next line when it encounters this sequence.\n",
    "print('Hello World \\n Thank You')"
   ]
  },
  {
   "cell_type": "code",
   "execution_count": 14,
   "id": "67fff169",
   "metadata": {},
   "outputs": [
    {
     "data": {
      "text/plain": [
       "11"
      ]
     },
     "execution_count": 14,
     "metadata": {},
     "output_type": "execute_result"
    }
   ],
   "source": [
    "#### Function Call: len() is a function that takes an object as an argument and returns the number of items in that object. \n",
    "#### For strings, it returns the number of characters.\n",
    "#### Python counts each character in the string.\n",
    "#### There are 11 characters in the string 'hello world', including spaces.\n",
    "len('hello world')"
   ]
  },
  {
   "cell_type": "code",
   "execution_count": 15,
   "id": "3d1974ff",
   "metadata": {},
   "outputs": [
    {
     "data": {
      "text/plain": [
       "'Hello World'"
      ]
     },
     "execution_count": 15,
     "metadata": {},
     "output_type": "execute_result"
    }
   ],
   "source": [
    "#### Direct Printing\n",
    "a = 'Hello World'\n",
    "a"
   ]
  },
  {
   "cell_type": "code",
   "execution_count": 16,
   "id": "450b81a5",
   "metadata": {},
   "outputs": [
    {
     "name": "stdout",
     "output_type": "stream",
     "text": [
      "Hello World\n"
     ]
    }
   ],
   "source": [
    "#### Calling print function\n",
    "print (a)"
   ]
  },
  {
   "cell_type": "code",
   "execution_count": 17,
   "id": "ebc09203",
   "metadata": {},
   "outputs": [
    {
     "data": {
      "text/plain": [
       "'e'"
      ]
     },
     "execution_count": 17,
     "metadata": {},
     "output_type": "execute_result"
    }
   ],
   "source": [
    "#### Indexing: Strings in Python are indexed, \n",
    "#### meaning each character in the string has a position or index starting from 0 up to n-1, where n is the length of the string.\n",
    "a[1]"
   ]
  },
  {
   "cell_type": "code",
   "execution_count": 18,
   "id": "aaa8ab8d",
   "metadata": {},
   "outputs": [
    {
     "data": {
      "text/plain": [
       "'H'"
      ]
     },
     "execution_count": 18,
     "metadata": {},
     "output_type": "execute_result"
    }
   ],
   "source": [
    "a[0]"
   ]
  },
  {
   "cell_type": "code",
   "execution_count": 19,
   "id": "bec714c8",
   "metadata": {},
   "outputs": [
    {
     "data": {
      "text/plain": [
       "'ello World'"
      ]
     },
     "execution_count": 19,
     "metadata": {},
     "output_type": "execute_result"
    }
   ],
   "source": [
    "#### Slicing: Slicing with a[start:end] extracts a substring starting from index start up to, but not including, index end.\n",
    "a[1:]"
   ]
  },
  {
   "cell_type": "code",
   "execution_count": 20,
   "id": "ddd6adf6",
   "metadata": {},
   "outputs": [
    {
     "data": {
      "text/plain": [
       "'Hello World'"
      ]
     },
     "execution_count": 20,
     "metadata": {},
     "output_type": "execute_result"
    }
   ],
   "source": [
    "a[0:]"
   ]
  },
  {
   "cell_type": "code",
   "execution_count": 21,
   "id": "c512b02d",
   "metadata": {},
   "outputs": [
    {
     "data": {
      "text/plain": [
       "'Hel'"
      ]
     },
     "execution_count": 21,
     "metadata": {},
     "output_type": "execute_result"
    }
   ],
   "source": [
    "#### Slicing: When you use a[:3], it means you're extracting a substring starting from the beginning (index 0) up to, but not including, index 3.\n",
    "a[:3]"
   ]
  },
  {
   "cell_type": "code",
   "execution_count": 22,
   "id": "476442b1",
   "metadata": {},
   "outputs": [
    {
     "data": {
      "text/plain": [
       "'Hello Wor'"
      ]
     },
     "execution_count": 22,
     "metadata": {},
     "output_type": "execute_result"
    }
   ],
   "source": [
    "#### Slicing: When you use a[:-2], \n",
    "#### it means you're extracting a substring starting from the beginning (index 0) up to, but not including, the 2nd-to-last index (-2).\n",
    "a[:-2]"
   ]
  },
  {
   "cell_type": "code",
   "execution_count": 23,
   "id": "05d20b4a",
   "metadata": {},
   "outputs": [
    {
     "data": {
      "text/plain": [
       "'HlWl'"
      ]
     },
     "execution_count": 23,
     "metadata": {},
     "output_type": "execute_result"
    }
   ],
   "source": [
    "#### Slicing with Step: When you use a[::3], \n",
    "#### the third argument (step) determines how many positions to move forward after each element is taken from the sequence.\n",
    "a[::3]"
   ]
  },
  {
   "cell_type": "code",
   "execution_count": 24,
   "id": "d21cec18",
   "metadata": {},
   "outputs": [
    {
     "data": {
      "text/plain": [
       "'hello'"
      ]
     },
     "execution_count": 24,
     "metadata": {},
     "output_type": "execute_result"
    }
   ],
   "source": [
    "d = ('hello')\n",
    "d"
   ]
  },
  {
   "cell_type": "code",
   "execution_count": 25,
   "id": "f132f58b",
   "metadata": {},
   "outputs": [
    {
     "data": {
      "text/plain": [
       "'hlo'"
      ]
     },
     "execution_count": 25,
     "metadata": {},
     "output_type": "execute_result"
    }
   ],
   "source": [
    "d[::2]"
   ]
  },
  {
   "cell_type": "code",
   "execution_count": 26,
   "id": "7cbb907e",
   "metadata": {},
   "outputs": [
    {
     "data": {
      "text/plain": [
       "'olleh'"
      ]
     },
     "execution_count": 26,
     "metadata": {},
     "output_type": "execute_result"
    }
   ],
   "source": [
    "#### Slicing with Negative Step: When you use [::-1], it means:\n",
    "#### start is not specified (None), so it defaults to the beginning of the sequence.\n",
    "#### end is not specified (None), so it defaults to the end of the sequence.\n",
    "#### step is -1, which indicates that you are slicing the sequence in reverse.\n",
    "d[::-1]"
   ]
  },
  {
   "cell_type": "code",
   "execution_count": 27,
   "id": "8acd340b",
   "metadata": {},
   "outputs": [
    {
     "data": {
      "text/plain": [
       "'olh'"
      ]
     },
     "execution_count": 27,
     "metadata": {},
     "output_type": "execute_result"
    }
   ],
   "source": [
    "d[::-2]"
   ]
  },
  {
   "cell_type": "code",
   "execution_count": 28,
   "id": "a4db4d3c",
   "metadata": {},
   "outputs": [
    {
     "data": {
      "text/plain": [
       "'hello'"
      ]
     },
     "execution_count": 28,
     "metadata": {},
     "output_type": "execute_result"
    }
   ],
   "source": [
    "#concatenating..!\n",
    "d"
   ]
  },
  {
   "cell_type": "code",
   "execution_count": 29,
   "id": "d9cc3b72",
   "metadata": {},
   "outputs": [
    {
     "name": "stdout",
     "output_type": "stream",
     "text": [
      "hello dear world..!\n"
     ]
    }
   ],
   "source": [
    "#### String Concatenation: In Python, the + operator can be used to concatenate strings. \n",
    "#### When you write d = d + ' dear world..!', it means you are appending the string ' dear world..!' to the existing value of d.\n",
    "#### Python evaluates d + ' dear world..!'.\n",
    "#### This operation creates a new string that combines the contents of d (which could be 'hello') and ' dear world..!'.\n",
    "#### The result of this concatenation is a new string that would be stored back into the variable d.\n",
    "d = d + ' dear world..!'\n",
    "print(d)"
   ]
  },
  {
   "cell_type": "code",
   "execution_count": 30,
   "id": "ee6fc140",
   "metadata": {},
   "outputs": [
    {
     "data": {
      "text/plain": [
       "'HELLO DEAR WORLD..!'"
      ]
     },
     "execution_count": 30,
     "metadata": {},
     "output_type": "execute_result"
    }
   ],
   "source": [
    "#### Method Invocation: When you write d.upper(), you are invoking the upper() method on the string d.\n",
    "#### Transformation: The upper() method transforms all lowercase characters in the string d to their uppercase equivalents.\n",
    "d.upper()"
   ]
  },
  {
   "cell_type": "code",
   "execution_count": 31,
   "id": "3701ce60",
   "metadata": {},
   "outputs": [
    {
     "data": {
      "text/plain": [
       "'hello dear world..!'"
      ]
     },
     "execution_count": 31,
     "metadata": {},
     "output_type": "execute_result"
    }
   ],
   "source": [
    "#### Method Invocation: When you write d.lower(), you are invoking the lower() method on the string d.\n",
    "#### Transformation: The lower() method transforms all uppercase characters in the string d to their lowercase equivalents.\n",
    "d.lower()"
   ]
  },
  {
   "cell_type": "code",
   "execution_count": 32,
   "id": "129a5e0a",
   "metadata": {},
   "outputs": [
    {
     "data": {
      "text/plain": [
       "['hello', 'dear', 'world..!']"
      ]
     },
     "execution_count": 32,
     "metadata": {},
     "output_type": "execute_result"
    }
   ],
   "source": [
    "#### Method Invocation: When you write d.split(), you are invoking the split() method on the string d.\n",
    "#### Splitting Criteria: By default, split() splits the string d based on any whitespace characters and \n",
    "#### removes any leading or trailing whitespace from the resulting substrings.\n",
    "#### Return Value: The split() method returns a list of substrings obtained from splitting the original string d. \n",
    "#### Each substring in the list corresponds to a portion of the original string separated by whitespace.\n",
    "d.split()"
   ]
  },
  {
   "cell_type": "code",
   "execution_count": 33,
   "id": "d1e17229",
   "metadata": {},
   "outputs": [
    {
     "data": {
      "text/plain": [
       "['h', 'llo d', 'ar world..!']"
      ]
     },
     "execution_count": 33,
     "metadata": {},
     "output_type": "execute_result"
    }
   ],
   "source": [
    "#### Method Invocation: When you write d.split('e'), you are invoking the split() method on the string d and specifying 'e' as the separator.\n",
    "#### Splitting Criteria: The split('e') method splits the string d into substrings wherever the character 'e' occurs. \n",
    "#### It removes the specified separator from the resulting substrings.\n",
    "#### Return Value: The split('e') method returns a list of substrings obtained from splitting the original string d at each occurrence of 'e'.\n",
    "#### Edge Cases: If the separator 'e' is not found in the string d, split('e') returns a list containing the original string d.\n",
    "d.split('e')"
   ]
  },
  {
   "cell_type": "markdown",
   "id": "f2a70c19-d539-446a-b69e-04bfd48862ea",
   "metadata": {},
   "source": [
    "#### I hope this helps you with the basic operators in python, THANK_YOU ####"
   ]
  }
 ],
 "metadata": {
  "kernelspec": {
   "display_name": "Python 3 (ipykernel)",
   "language": "python",
   "name": "python3"
  },
  "language_info": {
   "codemirror_mode": {
    "name": "ipython",
    "version": 3
   },
   "file_extension": ".py",
   "mimetype": "text/x-python",
   "name": "python",
   "nbconvert_exporter": "python",
   "pygments_lexer": "ipython3",
   "version": "3.11.7"
  }
 },
 "nbformat": 4,
 "nbformat_minor": 5
}
